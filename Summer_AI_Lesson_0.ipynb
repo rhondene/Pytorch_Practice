{
 "cells": [
  {
   "cell_type": "markdown",
   "metadata": {},
   "source": [
    "June 17 2019\n",
    "Owner: Rhondene Wint\n",
    "## Summer of AI Lesson 0 : Very Basic Pytorch syntax\n",
    "\n",
    "Objective:\n",
    "- Use this course as incentive to learn Pytorch. I already know keras but it's good to have variety because different frameworks have different advantages\n",
    "\n",
    "<h3> what to expect in this notebook: </h3>:\n",
    "- Make tensors\n",
    "- Fundamental mathematical operations with tensors\n",
    "\n",
    "<h3> What is AI </h3>\n",
    "- AI means a computer program was used to make decisions. These are are rule-based systems   \n",
    "\n",
    "- Machine Learning =  Data +Models +Features. Deep learning is a subset of Machine learning.   \n",
    "- This course will focus mainly on supervised classification/regression and sequence prediction tasks.   \n",
    "-  pytorch 1.1.0 was installed"
   ]
  },
  {
   "cell_type": "code",
   "execution_count": 2,
   "metadata": {
    "scrolled": true
   },
   "outputs": [],
   "source": [
    "import torch"
   ]
  },
  {
   "cell_type": "markdown",
   "metadata": {},
   "source": [
    "## Manipulating Tensors (Matrices)"
   ]
  },
  {
   "cell_type": "code",
   "execution_count": 3,
   "metadata": {},
   "outputs": [
    {
     "data": {
      "text/plain": [
       "tensor([0.4201, 0.1353, 0.1038, 0.6211, 0.8176, 0.9199, 0.0362, 0.5701, 0.2380,\n",
       "        0.8637])"
      ]
     },
     "execution_count": 3,
     "metadata": {},
     "output_type": "execute_result"
    }
   ],
   "source": [
    "### generate a 1-dim tensor of 10 random numbers\n",
    "torch.rand(10)"
   ]
  },
  {
   "cell_type": "code",
   "execution_count": 4,
   "metadata": {},
   "outputs": [],
   "source": [
    "##Create two 2x2 matrix\n",
    "a = torch.rand(2,2)\n",
    "b = torch.rand(2,2)"
   ]
  },
  {
   "cell_type": "code",
   "execution_count": 6,
   "metadata": {
    "scrolled": false
   },
   "outputs": [
    {
     "name": "stdout",
     "output_type": "stream",
     "text": [
      "tensor([[0.5894, 0.5733],\n",
      "        [0.5751, 0.6806]])\n",
      "tensor([[0.5181, 0.7305],\n",
      "        [0.7496, 0.2736]])\n"
     ]
    }
   ],
   "source": [
    "print(a);print(b)"
   ]
  },
  {
   "cell_type": "code",
   "execution_count": 12,
   "metadata": {},
   "outputs": [
    {
     "data": {
      "text/plain": [
       "torch.Size([2, 2])"
      ]
     },
     "execution_count": 12,
     "metadata": {},
     "output_type": "execute_result"
    }
   ],
   "source": [
    "#get the shape of the tensors\n",
    "a.shape"
   ]
  },
  {
   "cell_type": "code",
   "execution_count": 7,
   "metadata": {
    "scrolled": true
   },
   "outputs": [
    {
     "data": {
      "text/plain": [
       "tensor([[1.1074, 1.3039],\n",
       "        [1.3246, 0.9542]])"
      ]
     },
     "execution_count": 7,
     "metadata": {},
     "output_type": "execute_result"
    }
   ],
   "source": [
    "a+b"
   ]
  },
  {
   "cell_type": "code",
   "execution_count": 8,
   "metadata": {},
   "outputs": [
    {
     "data": {
      "text/plain": [
       "tensor([[0.3053, 0.4188],\n",
       "        [0.4310, 0.1862]])"
      ]
     },
     "execution_count": 8,
     "metadata": {},
     "output_type": "execute_result"
    }
   ],
   "source": [
    "##elementwise multiplication \n",
    "a*b"
   ]
  },
  {
   "cell_type": "code",
   "execution_count": 9,
   "metadata": {},
   "outputs": [
    {
     "name": "stdout",
     "output_type": "stream",
     "text": [
      "tensor([[0.7351, 0.5874],\n",
      "        [0.8081, 0.6063]])\n",
      "tensor([[0.7351, 0.5874],\n",
      "        [0.8081, 0.6063]])\n"
     ]
    }
   ],
   "source": [
    "##matrix multiplication - two ways\n",
    "print(a@b)\n",
    "print(torch.mm(a,b))"
   ]
  },
  {
   "cell_type": "code",
   "execution_count": 11,
   "metadata": {},
   "outputs": [
    {
     "data": {
      "text/plain": [
       "tensor([[0.5894, 0.5733],\n",
       "        [0.5751, 0.6806],\n",
       "        [0.5181, 0.7305],\n",
       "        [0.7496, 0.2736]])"
      ]
     },
     "execution_count": 11,
     "metadata": {},
     "output_type": "execute_result"
    }
   ],
   "source": [
    "##concatenate two tensors\n",
    "torch.cat( (a,b) )"
   ]
  },
  {
   "cell_type": "code",
   "execution_count": 16,
   "metadata": {},
   "outputs": [
    {
     "data": {
      "text/plain": [
       "torch.Size([4])"
      ]
     },
     "execution_count": 16,
     "metadata": {},
     "output_type": "execute_result"
    }
   ],
   "source": [
    "##create a tensor with known values\n",
    "c = torch.tensor([1.5, 2.2, 0.9, 1.1])\n",
    "c.shape"
   ]
  },
  {
   "cell_type": "code",
   "execution_count": 17,
   "metadata": {},
   "outputs": [
    {
     "data": {
      "text/plain": [
       "tensor([[1.5000, 2.2000],\n",
       "        [0.9000, 1.1000]])"
      ]
     },
     "execution_count": 17,
     "metadata": {},
     "output_type": "execute_result"
    }
   ],
   "source": [
    "##reshape c to a 2x2 tensor\n",
    "c.view(2,2)"
   ]
  },
  {
   "cell_type": "code",
   "execution_count": 18,
   "metadata": {
    "scrolled": true
   },
   "outputs": [
    {
     "data": {
      "text/plain": [
       "tensor([[1.5000],\n",
       "        [2.2000],\n",
       "        [0.9000],\n",
       "        [1.1000]])"
      ]
     },
     "execution_count": 18,
     "metadata": {},
     "output_type": "execute_result"
    }
   ],
   "source": [
    "c.view(4,-1)  #-1 means as many rows as need"
   ]
  },
  {
   "cell_type": "code",
   "execution_count": 23,
   "metadata": {
    "scrolled": true
   },
   "outputs": [
    {
     "name": "stdout",
     "output_type": "stream",
     "text": [
      "a: tensor([[0., 0., 0.],\n",
      "        [0., 0., 0.],\n",
      "        [0., 0., 0.]])\n",
      "b: tensor([[1., 1., 1.],\n",
      "        [1., 1., 1.],\n",
      "        [1., 1., 1.]])\n",
      "c: tensor([[0., 0., 0., 0., 0., 0.],\n",
      "        [0., 0., 0., 1., 1., 1.],\n",
      "        [1., 1., 1., 1., 1., 1.]])\n"
     ]
    }
   ],
   "source": [
    "##make a 3x3 tensor filled with zeros\n",
    "a = torch.zeros(3,3)\n",
    "##make a 3x3 tensor filled with ones\n",
    "b =  torch.ones(3,3)\n",
    "\n",
    "##concat a and b to make a 3x6 matrix\n",
    "c = torch.cat((a,b)).view(3,6)\n",
    "print( 'a:',a)\n",
    "print('b:', b)\n",
    "print('c:', c)"
   ]
  },
  {
   "cell_type": "code",
   "execution_count": 25,
   "metadata": {},
   "outputs": [
    {
     "name": "stdout",
     "output_type": "stream",
     "text": [
      "type of c:  torch.FloatTensor\n",
      "d: torch.LongTensor\n"
     ]
    }
   ],
   "source": [
    "##print the type of c\n",
    "print('type of c: ', c.type())\n",
    "##make a new tensor from c that is a long tensor\n",
    "d = c.long()\n",
    "print('d:', d.type())"
   ]
  },
  {
   "cell_type": "markdown",
   "metadata": {},
   "source": [
    "- Make a new 3x100x100 tensor \"d\" filled with random values, and print the result\n",
    "- <b>NOTE</b>:This is how PyTorch represents images: channels x height x width"
   ]
  },
  {
   "cell_type": "code",
   "execution_count": 27,
   "metadata": {
    "scrolled": true
   },
   "outputs": [
    {
     "data": {
      "text/plain": [
       "tensor([[[5.5149e-01, 9.6906e-02, 1.4303e-02,  ..., 1.4384e-01,\n",
       "          3.1616e-01, 4.5295e-01],\n",
       "         [2.7136e-01, 2.6205e-01, 6.9838e-01,  ..., 8.6482e-01,\n",
       "          3.2670e-01, 6.0878e-01],\n",
       "         [5.1833e-02, 3.7344e-01, 6.1348e-01,  ..., 9.1306e-01,\n",
       "          5.7851e-01, 8.0208e-01],\n",
       "         ...,\n",
       "         [5.4280e-01, 2.1227e-01, 9.3819e-02,  ..., 5.5981e-02,\n",
       "          2.0608e-01, 5.3967e-01],\n",
       "         [2.2828e-01, 9.7704e-01, 8.5318e-01,  ..., 6.3414e-01,\n",
       "          8.8972e-01, 9.0446e-01],\n",
       "         [3.6411e-02, 1.8321e-01, 8.7129e-01,  ..., 6.7759e-01,\n",
       "          1.7641e-01, 3.9841e-01]],\n",
       "\n",
       "        [[8.3937e-01, 1.7552e-01, 3.0903e-01,  ..., 4.3470e-04,\n",
       "          9.8597e-01, 9.1177e-01],\n",
       "         [6.6056e-01, 7.3848e-01, 6.5176e-01,  ..., 8.9059e-01,\n",
       "          2.8838e-01, 8.5374e-01],\n",
       "         [8.7836e-01, 9.1654e-02, 3.0236e-01,  ..., 1.6041e-01,\n",
       "          8.2566e-01, 4.7809e-01],\n",
       "         ...,\n",
       "         [1.4144e-01, 3.7353e-01, 9.4762e-01,  ..., 2.6755e-01,\n",
       "          8.8046e-01, 4.6813e-01],\n",
       "         [3.4965e-01, 6.9923e-01, 6.8617e-03,  ..., 5.4332e-02,\n",
       "          3.4772e-02, 4.8587e-01],\n",
       "         [2.5931e-01, 9.8665e-01, 6.2758e-02,  ..., 4.6004e-01,\n",
       "          9.8282e-01, 8.4934e-01]],\n",
       "\n",
       "        [[4.8586e-02, 6.9565e-01, 6.3338e-01,  ..., 4.0968e-01,\n",
       "          2.0314e-01, 6.5948e-01],\n",
       "         [4.3876e-01, 3.8048e-01, 9.7599e-01,  ..., 3.2617e-01,\n",
       "          9.8525e-01, 4.2829e-01],\n",
       "         [8.0599e-01, 5.6729e-01, 4.2070e-01,  ..., 7.8180e-01,\n",
       "          7.9465e-01, 3.1664e-01],\n",
       "         ...,\n",
       "         [7.1712e-01, 8.6468e-02, 7.2524e-01,  ..., 7.2139e-01,\n",
       "          1.8225e-01, 8.0513e-02],\n",
       "         [1.1706e-01, 2.8395e-01, 1.4106e-01,  ..., 7.8321e-01,\n",
       "          6.7086e-01, 6.7447e-01],\n",
       "         [6.1283e-01, 7.4989e-01, 9.3680e-01,  ..., 2.5577e-01,\n",
       "          6.8052e-01, 5.3950e-01]]])"
      ]
     },
     "execution_count": 27,
     "metadata": {},
     "output_type": "execute_result"
    }
   ],
   "source": [
    "d= torch.rand(3,100,100)\n",
    "d"
   ]
  },
  {
   "cell_type": "code",
   "execution_count": 28,
   "metadata": {},
   "outputs": [
    {
     "name": "stdout",
     "output_type": "stream",
     "text": [
      "mean of tensor d:  tensor(0.5005)\n",
      "standard deviation of d:  tensor(0.2898)\n"
     ]
    }
   ],
   "source": [
    "##print the mean and standard deviation of tensor d\n",
    "print('mean of tensor d: ',d.mean())\n",
    "print('standard deviation of d: ', d.std())"
   ]
  }
 ],
 "metadata": {
  "kernelspec": {
   "display_name": "Python 3",
   "language": "python",
   "name": "python3"
  },
  "language_info": {
   "codemirror_mode": {
    "name": "ipython",
    "version": 3
   },
   "file_extension": ".py",
   "mimetype": "text/x-python",
   "name": "python",
   "nbconvert_exporter": "python",
   "pygments_lexer": "ipython3",
   "version": "3.7.3"
  }
 },
 "nbformat": 4,
 "nbformat_minor": 2
}
